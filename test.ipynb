{
 "cells": [
  {
   "cell_type": "code",
   "execution_count": 1,
   "id": "f926231a",
   "metadata": {},
   "outputs": [],
   "source": [
    "from correction.models.changeToERA5 import MeanToERA5\n",
    "from correction.models.loss import TurbulentMSE\n",
    "import os\n",
    "import torch"
   ]
  },
  {
   "cell_type": "markdown",
   "id": "884d8ab3",
   "metadata": {},
   "source": [
    "### Проверка, что подсчет метрики не видоизменяет тензор"
   ]
  },
  {
   "cell_type": "code",
   "execution_count": 6,
   "id": "bbc7cb43",
   "metadata": {},
   "outputs": [],
   "source": [
    "meaner = MeanToERA5(os.path.join('C:\\\\Users\\\\Viktor\\\\ml\\\\WRFCorrection', 'wrferaMapping.npy'))\n",
    "criterion = TurbulentMSE(meaner, beta=0.5, logger=None)\n",
    "def calculate_metric(wrf_orig, wrf_corr, era, criterion):\n",
    "    loss_orig = criterion(wrf_orig, wrf_orig, era)\n",
    "    loss_corr = criterion(wrf_orig, wrf_corr, era)\n",
    "    metric = ((loss_orig - loss_corr) / loss_orig).mean()\n",
    "    return loss_orig.item(), loss_corr.item(), metric.item()"
   ]
  },
  {
   "cell_type": "code",
   "execution_count": 7,
   "id": "bfb96de8",
   "metadata": {},
   "outputs": [],
   "source": [
    "wrf = torch.rand([4, 2, 6, 210, 280])\n",
    "era = torch.rand([4, 2, 3, 67, 215])"
   ]
  },
  {
   "cell_type": "code",
   "execution_count": 8,
   "id": "afc664d2",
   "metadata": {
    "scrolled": true
   },
   "outputs": [],
   "source": [
    "wrf_0 = torch.clone(wrf)"
   ]
  },
  {
   "cell_type": "code",
   "execution_count": 9,
   "id": "d4dc6209",
   "metadata": {},
   "outputs": [
    {
     "name": "stdout",
     "output_type": "stream",
     "text": [
      "torch.Size([4, 2, 3, 210, 280]) 5\n",
      "torch.Size([4, 2, 3, 210, 280]) 5\n"
     ]
    }
   ],
   "source": [
    "_ = calculate_metric(wrf[:, :, :3], wrf[:, :, :3], era, criterion)"
   ]
  },
  {
   "cell_type": "code",
   "execution_count": 10,
   "id": "e3b1be3a",
   "metadata": {},
   "outputs": [
    {
     "ename": "NameError",
     "evalue": "name 'm' is not defined",
     "output_type": "error",
     "traceback": [
      "\u001b[1;31m---------------------------------------------------------------------------\u001b[0m",
      "\u001b[1;31mNameError\u001b[0m                                 Traceback (most recent call last)",
      "\u001b[1;32m~\\AppData\\Local\\Temp\\ipykernel_14512\\1497821502.py\u001b[0m in \u001b[0;36m<module>\u001b[1;34m\u001b[0m\n\u001b[1;32m----> 1\u001b[1;33m \u001b[0mm\u001b[0m\u001b[1;33m\u001b[0m\u001b[1;33m\u001b[0m\u001b[0m\n\u001b[0m",
      "\u001b[1;31mNameError\u001b[0m: name 'm' is not defined"
     ]
    }
   ],
   "source": [
    "m"
   ]
  },
  {
   "cell_type": "code",
   "execution_count": 11,
   "id": "005ba869",
   "metadata": {},
   "outputs": [
    {
     "data": {
      "text/plain": [
       "tensor(0.)"
      ]
     },
     "execution_count": 11,
     "metadata": {},
     "output_type": "execute_result"
    }
   ],
   "source": [
    "(wrf_0 - wrf).sum()"
   ]
  },
  {
   "cell_type": "code",
   "execution_count": null,
   "id": "1ab6e089",
   "metadata": {},
   "outputs": [],
   "source": []
  },
  {
   "cell_type": "code",
   "execution_count": 2,
   "id": "dc230c6c",
   "metadata": {},
   "outputs": [],
   "source": [
    "k = 7\n",
    "layer = torch.nn.Conv2d(3, 3, k, groups=3, bias=False, padding=k // 2, padding_mode='replicate')"
   ]
  },
  {
   "cell_type": "code",
   "execution_count": 5,
   "id": "fe5d7f4c",
   "metadata": {},
   "outputs": [
    {
     "data": {
      "text/plain": [
       "torch.Size([4, 2, 3, 40, 40])"
      ]
     },
     "execution_count": 5,
     "metadata": {},
     "output_type": "execute_result"
    }
   ],
   "source": [
    "a = torch.rand([4, 2 ,3, 40, 40])\n",
    "layer(a.view(-1, 3, 40, 40)).view(a.shape).shape"
   ]
  }
 ],
 "metadata": {
  "kernelspec": {
   "display_name": "Python 3 (ipykernel)",
   "language": "python",
   "name": "python3"
  },
  "language_info": {
   "codemirror_mode": {
    "name": "ipython",
    "version": 3
   },
   "file_extension": ".py",
   "mimetype": "text/x-python",
   "name": "python",
   "nbconvert_exporter": "python",
   "pygments_lexer": "ipython3",
   "version": "3.9.18"
  }
 },
 "nbformat": 4,
 "nbformat_minor": 5
}
